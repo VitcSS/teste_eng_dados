{
 "cells": [
  {
   "cell_type": "code",
   "execution_count": 45,
   "metadata": {},
   "outputs": [],
   "source": [
    "from pyspark.sql import SparkSession"
   ]
  },
  {
   "cell_type": "code",
   "execution_count": 46,
   "metadata": {},
   "outputs": [
    {
     "name": "stderr",
     "output_type": "stream",
     "text": [
      "23/09/05 10:37:40 WARN SparkSession: Using an existing Spark session; only runtime SQL configurations will take effect.\n"
     ]
    }
   ],
   "source": [
    "spark = SparkSession.builder \\\n",
    "    .appName(\"LocalDatabase\") \\\n",
    "    .config(\"spark.sql.catalogImplementation\", \"hive\") \\\n",
    "    .getOrCreate()"
   ]
  },
  {
   "cell_type": "code",
   "execution_count": 47,
   "metadata": {},
   "outputs": [],
   "source": [
    "with open(\"data_files/database/desafio_engenheiro.sql\", \"r\") as sql_file:\n",
    "    sql_script = sql_file.read()"
   ]
  },
  {
   "cell_type": "code",
   "execution_count": 48,
   "metadata": {},
   "outputs": [
    {
     "ename": "AnalysisException",
     "evalue": "[PATH_NOT_FOUND] Path does not exist: file:/root/Repositories/teste_eng_dados_lambda/-- Create the database\nCREATE DATABASE desafio_engenheiro;\n\n-- Use the database\nUSE desafio_engenheiro;\n\n-- Create the cliente table\nCREATE TABLE cliente (\n    cliente_id BIGINT PRIMARY KEY NOT NULL IDENTITY(1,1),\n    nome VARCHAR(30) NOT NULL\n);\n\n-- Insert data into the cliente table\nINSERT INTO cliente VALUES ('Cliente A');\nINSERT INTO cliente VALUES ('Cliente B');\nINSERT INTO cliente VALUES ('Cliente C');\nINSERT INTO cliente VALUES ('Cliente D');\n\n-- Create the contrato table\nCREATE TABLE contrato (\n    contrato_id BIGINT PRIMARY KEY NOT NULL IDENTITY(1,1),\n    ativo BIT NOT NULL,\n    percentual NUMERIC(10,2) NOT NULL,\n    cliente_id BIGINT NOT NULL REFERENCES cliente(cliente_id)\n);\n\n-- Insert data into the contrato table\nINSERT INTO contrato VALUES (1, 2, 1);\nINSERT INTO contrato VALUES (0, 1.95, 1);\nINSERT INTO contrato VALUES (1, 1, 2);\nINSERT INTO contrato VALUES (1, 3, 4);\n\n-- Create the transacao table\nCREATE TABLE transacao (\n    transacao_id BIGINT PRIMARY KEY NOT NULL IDENTITY(1,1),\n    contrato_id BIGINT NOT NULL REFERENCES contrato(contrato_id),\n    valor_total MONEY NOT NULL,\n    percentual_desconto NUMERIC(10,2) NULL\n);\n\n-- Insert data into the transacao table\nINSERT INTO transacao VALUES (1, 3000, 6.99);\nINSERT INTO transacao VALUES (2, 4500, 15);\nINSERT INTO transacao VALUES (1, 57989, 1.45);\nINSERT INTO transacao VALUES (4, 1, 0);\nINSERT INTO transacao VALUES (4, 35, NULL);\n.",
     "output_type": "error",
     "traceback": [
      "\u001b[0;31m---------------------------------------------------------------------------\u001b[0m",
      "\u001b[0;31mAnalysisException\u001b[0m                         Traceback (most recent call last)",
      "Cell \u001b[0;32mIn[48], line 4\u001b[0m\n\u001b[1;32m      1\u001b[0m df \u001b[39m=\u001b[39m spark\u001b[39m.\u001b[39;49mread \\\n\u001b[1;32m      2\u001b[0m     \u001b[39m.\u001b[39;49moption(\u001b[39m\"\u001b[39;49m\u001b[39mmultiline\u001b[39;49m\u001b[39m\"\u001b[39;49m, \u001b[39m\"\u001b[39;49m\u001b[39mtrue\u001b[39;49m\u001b[39m\"\u001b[39;49m) \\\n\u001b[1;32m      3\u001b[0m     \u001b[39m.\u001b[39;49moption(\u001b[39m\"\u001b[39;49m\u001b[39mmode\u001b[39;49m\u001b[39m\"\u001b[39;49m, \u001b[39m\"\u001b[39;49m\u001b[39mPERMISSIVE\u001b[39;49m\u001b[39m\"\u001b[39;49m) \\\n\u001b[0;32m----> 4\u001b[0m     \u001b[39m.\u001b[39;49mtext(sql_script)\n",
      "File \u001b[0;32m~/.cache/pypoetry/virtualenvs/teste-eng-dados-lambda-2WcI74M4-py3.10/lib/python3.10/site-packages/pyspark/sql/readwriter.py:602\u001b[0m, in \u001b[0;36mDataFrameReader.text\u001b[0;34m(self, paths, wholetext, lineSep, pathGlobFilter, recursiveFileLookup, modifiedBefore, modifiedAfter)\u001b[0m\n\u001b[1;32m    600\u001b[0m     paths \u001b[39m=\u001b[39m [paths]\n\u001b[1;32m    601\u001b[0m \u001b[39massert\u001b[39;00m \u001b[39mself\u001b[39m\u001b[39m.\u001b[39m_spark\u001b[39m.\u001b[39m_sc\u001b[39m.\u001b[39m_jvm \u001b[39mis\u001b[39;00m \u001b[39mnot\u001b[39;00m \u001b[39mNone\u001b[39;00m\n\u001b[0;32m--> 602\u001b[0m \u001b[39mreturn\u001b[39;00m \u001b[39mself\u001b[39m\u001b[39m.\u001b[39m_df(\u001b[39mself\u001b[39;49m\u001b[39m.\u001b[39;49m_jreader\u001b[39m.\u001b[39;49mtext(\u001b[39mself\u001b[39;49m\u001b[39m.\u001b[39;49m_spark\u001b[39m.\u001b[39;49m_sc\u001b[39m.\u001b[39;49m_jvm\u001b[39m.\u001b[39;49mPythonUtils\u001b[39m.\u001b[39;49mtoSeq(paths)))\n",
      "File \u001b[0;32m~/.cache/pypoetry/virtualenvs/teste-eng-dados-lambda-2WcI74M4-py3.10/lib/python3.10/site-packages/py4j/java_gateway.py:1322\u001b[0m, in \u001b[0;36mJavaMember.__call__\u001b[0;34m(self, *args)\u001b[0m\n\u001b[1;32m   1316\u001b[0m command \u001b[39m=\u001b[39m proto\u001b[39m.\u001b[39mCALL_COMMAND_NAME \u001b[39m+\u001b[39m\\\n\u001b[1;32m   1317\u001b[0m     \u001b[39mself\u001b[39m\u001b[39m.\u001b[39mcommand_header \u001b[39m+\u001b[39m\\\n\u001b[1;32m   1318\u001b[0m     args_command \u001b[39m+\u001b[39m\\\n\u001b[1;32m   1319\u001b[0m     proto\u001b[39m.\u001b[39mEND_COMMAND_PART\n\u001b[1;32m   1321\u001b[0m answer \u001b[39m=\u001b[39m \u001b[39mself\u001b[39m\u001b[39m.\u001b[39mgateway_client\u001b[39m.\u001b[39msend_command(command)\n\u001b[0;32m-> 1322\u001b[0m return_value \u001b[39m=\u001b[39m get_return_value(\n\u001b[1;32m   1323\u001b[0m     answer, \u001b[39mself\u001b[39;49m\u001b[39m.\u001b[39;49mgateway_client, \u001b[39mself\u001b[39;49m\u001b[39m.\u001b[39;49mtarget_id, \u001b[39mself\u001b[39;49m\u001b[39m.\u001b[39;49mname)\n\u001b[1;32m   1325\u001b[0m \u001b[39mfor\u001b[39;00m temp_arg \u001b[39min\u001b[39;00m temp_args:\n\u001b[1;32m   1326\u001b[0m     \u001b[39mif\u001b[39;00m \u001b[39mhasattr\u001b[39m(temp_arg, \u001b[39m\"\u001b[39m\u001b[39m_detach\u001b[39m\u001b[39m\"\u001b[39m):\n",
      "File \u001b[0;32m~/.cache/pypoetry/virtualenvs/teste-eng-dados-lambda-2WcI74M4-py3.10/lib/python3.10/site-packages/pyspark/errors/exceptions/captured.py:175\u001b[0m, in \u001b[0;36mcapture_sql_exception.<locals>.deco\u001b[0;34m(*a, **kw)\u001b[0m\n\u001b[1;32m    171\u001b[0m converted \u001b[39m=\u001b[39m convert_exception(e\u001b[39m.\u001b[39mjava_exception)\n\u001b[1;32m    172\u001b[0m \u001b[39mif\u001b[39;00m \u001b[39mnot\u001b[39;00m \u001b[39misinstance\u001b[39m(converted, UnknownException):\n\u001b[1;32m    173\u001b[0m     \u001b[39m# Hide where the exception came from that shows a non-Pythonic\u001b[39;00m\n\u001b[1;32m    174\u001b[0m     \u001b[39m# JVM exception message.\u001b[39;00m\n\u001b[0;32m--> 175\u001b[0m     \u001b[39mraise\u001b[39;00m converted \u001b[39mfrom\u001b[39;00m \u001b[39mNone\u001b[39;00m\n\u001b[1;32m    176\u001b[0m \u001b[39melse\u001b[39;00m:\n\u001b[1;32m    177\u001b[0m     \u001b[39mraise\u001b[39;00m\n",
      "\u001b[0;31mAnalysisException\u001b[0m: [PATH_NOT_FOUND] Path does not exist: file:/root/Repositories/teste_eng_dados_lambda/-- Create the database\nCREATE DATABASE desafio_engenheiro;\n\n-- Use the database\nUSE desafio_engenheiro;\n\n-- Create the cliente table\nCREATE TABLE cliente (\n    cliente_id BIGINT PRIMARY KEY NOT NULL IDENTITY(1,1),\n    nome VARCHAR(30) NOT NULL\n);\n\n-- Insert data into the cliente table\nINSERT INTO cliente VALUES ('Cliente A');\nINSERT INTO cliente VALUES ('Cliente B');\nINSERT INTO cliente VALUES ('Cliente C');\nINSERT INTO cliente VALUES ('Cliente D');\n\n-- Create the contrato table\nCREATE TABLE contrato (\n    contrato_id BIGINT PRIMARY KEY NOT NULL IDENTITY(1,1),\n    ativo BIT NOT NULL,\n    percentual NUMERIC(10,2) NOT NULL,\n    cliente_id BIGINT NOT NULL REFERENCES cliente(cliente_id)\n);\n\n-- Insert data into the contrato table\nINSERT INTO contrato VALUES (1, 2, 1);\nINSERT INTO contrato VALUES (0, 1.95, 1);\nINSERT INTO contrato VALUES (1, 1, 2);\nINSERT INTO contrato VALUES (1, 3, 4);\n\n-- Create the transacao table\nCREATE TABLE transacao (\n    transacao_id BIGINT PRIMARY KEY NOT NULL IDENTITY(1,1),\n    contrato_id BIGINT NOT NULL REFERENCES contrato(contrato_id),\n    valor_total MONEY NOT NULL,\n    percentual_desconto NUMERIC(10,2) NULL\n);\n\n-- Insert data into the transacao table\nINSERT INTO transacao VALUES (1, 3000, 6.99);\nINSERT INTO transacao VALUES (2, 4500, 15);\nINSERT INTO transacao VALUES (1, 57989, 1.45);\nINSERT INTO transacao VALUES (4, 1, 0);\nINSERT INTO transacao VALUES (4, 35, NULL);\n."
     ]
    }
   ],
   "source": [
    "\n",
    "df = spark.read \\\n",
    "    .option(\"multiline\", \"true\") \\\n",
    "    .option(\"mode\", \"PERMISSIVE\") \\\n",
    "    .text(sql_script)\n"
   ]
  }
 ],
 "metadata": {
  "kernelspec": {
   "display_name": "teste-eng-dados-lambda-2WcI74M4-py3.10",
   "language": "python",
   "name": "python3"
  },
  "language_info": {
   "codemirror_mode": {
    "name": "ipython",
    "version": 3
   },
   "file_extension": ".py",
   "mimetype": "text/x-python",
   "name": "python",
   "nbconvert_exporter": "python",
   "pygments_lexer": "ipython3",
   "version": "3.10.12"
  },
  "orig_nbformat": 4
 },
 "nbformat": 4,
 "nbformat_minor": 2
}
