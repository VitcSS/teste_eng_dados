{
 "cells": [
  {
   "cell_type": "code",
   "execution_count": 1,
   "metadata": {},
   "outputs": [],
   "source": [
    "from pyspark.sql import SparkSession\n",
    "from teste_eng_dados_lambda.setup import desafio_engenheiro"
   ]
  },
  {
   "cell_type": "code",
   "execution_count": 2,
   "metadata": {},
   "outputs": [
    {
     "name": "stderr",
     "output_type": "stream",
     "text": [
      "your 131072x1 screen size is bogus. expect trouble\n",
      "23/09/05 13:09:37 WARN Utils: Your hostname, DESKTOP-TC5NOQ4 resolves to a loopback address: 127.0.1.1; using 172.29.103.14 instead (on interface eth0)\n",
      "23/09/05 13:09:37 WARN Utils: Set SPARK_LOCAL_IP if you need to bind to another address\n",
      "Setting default log level to \"WARN\".\n",
      "To adjust logging level use sc.setLogLevel(newLevel). For SparkR, use setLogLevel(newLevel).\n",
      "23/09/05 13:09:39 WARN NativeCodeLoader: Unable to load native-hadoop library for your platform... using builtin-java classes where applicable\n"
     ]
    }
   ],
   "source": [
    "# Initialize a Spark session\n",
    "spark = SparkSession.builder \\\n",
    "    .appName(\"DesafioEngenheiro\") \\\n",
    "    .getOrCreate()"
   ]
  },
  {
   "cell_type": "code",
   "execution_count": 3,
   "metadata": {},
   "outputs": [],
   "source": [
    "spark = desafio_engenheiro(spark=spark).run()"
   ]
  },
  {
   "cell_type": "code",
   "execution_count": 5,
   "metadata": {},
   "outputs": [
    {
     "name": "stderr",
     "output_type": "stream",
     "text": [
      "                                                                                \r"
     ]
    },
    {
     "name": "stdout",
     "output_type": "stream",
     "text": [
      "+----------+---------+\n",
      "|cliente_id|     nome|\n",
      "+----------+---------+\n",
      "|         1|Cliente A|\n",
      "|         2|Cliente B|\n",
      "|         3|Cliente C|\n",
      "|         4|Cliente D|\n",
      "+----------+---------+\n",
      "\n",
      "+-----------+-----+----------+----------+\n",
      "|contrato_id|ativo|percentual|cliente_id|\n",
      "+-----------+-----+----------+----------+\n",
      "|          1| true|       2.0|         1|\n",
      "|          2|false|      1.95|         1|\n",
      "|          3| true|       1.0|         2|\n",
      "|          4| true|       3.0|         4|\n",
      "+-----------+-----+----------+----------+\n",
      "\n",
      "+------------+-----------+-----------+-------------------+\n",
      "|transacao_id|contrato_id|valor_total|percentual_desconto|\n",
      "+------------+-----------+-----------+-------------------+\n",
      "|           1|          1|     3000.0|               6.99|\n",
      "|           2|          2|     4500.0|               15.0|\n",
      "|           3|          1|    57989.0|               1.45|\n",
      "|           4|          4|        1.0|               null|\n",
      "|           5|          4|       35.0|               null|\n",
      "+------------+-----------+-----------+-------------------+\n",
      "\n"
     ]
    }
   ],
   "source": [
    "spark.sql(\"SELECT * FROM cliente\").show()\n",
    "spark.sql(\"SELECT * FROM contrato\").show()\n",
    "spark.sql(\"SELECT * FROM transacao\").show()"
   ]
  },
  {
   "cell_type": "code",
   "execution_count": null,
   "metadata": {},
   "outputs": [],
   "source": [
    "spark.stop()"
   ]
  }
 ],
 "metadata": {
  "kernelspec": {
   "display_name": "teste-eng-dados-lambda-2WcI74M4-py3.10",
   "language": "python",
   "name": "python3"
  },
  "language_info": {
   "codemirror_mode": {
    "name": "ipython",
    "version": 3
   },
   "file_extension": ".py",
   "mimetype": "text/x-python",
   "name": "python",
   "nbconvert_exporter": "python",
   "pygments_lexer": "ipython3",
   "version": "3.10.12"
  },
  "orig_nbformat": 4
 },
 "nbformat": 4,
 "nbformat_minor": 2
}
